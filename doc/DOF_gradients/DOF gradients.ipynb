{
 "cells": [
  {
   "cell_type": "markdown",
   "metadata": {},
   "source": [
    "# DOF gradients\n",
    "\n",
    "Compute the final gradients needed for the jacobian calculation."
   ]
  },
  {
   "cell_type": "code",
   "execution_count": 2,
   "metadata": {},
   "outputs": [],
   "source": [
    "import numpy as np\n",
    "import sympy\n",
    "import tensor_tools as tt"
   ]
  },
  {
   "cell_type": "code",
   "execution_count": 4,
   "metadata": {},
   "outputs": [
    {
     "data": {
      "text/plain": [
       "[[1, 0, 0, 0, 0, 0, 0, 0, 0, 0, 0, 0],\n",
       " [0, 1, 0, 0, 0, 0, 0, 0, 0, 0, 0, 0],\n",
       " [0, 0, 1, 0, 0, 0, 0, 0, 0, 0, 0, 0]]"
      ]
     },
     "execution_count": 4,
     "metadata": {},
     "output_type": "execute_result"
    }
   ],
   "source": [
    "zero = sympy.S(0)\n",
    "one  = sympy.S(1)\n",
    "\n",
    "delta_Kalpha = tt.form_tensor('_',[3,12])\n",
    "\n",
    "for i in range(3):\n",
    "    for j in range(12):\n",
    "        delta_Kalpha[i][j] = zero\n",
    "        \n",
    "delta_Kalpha[0][0] = one\n",
    "delta_Kalpha[1][1] = one\n",
    "delta_Kalpha[2][2] = one\n",
    "\n",
    "delta_Kalpha"
   ]
  },
  {
   "cell_type": "code",
   "execution_count": 5,
   "metadata": {},
   "outputs": [
    {
     "data": {
      "text/plain": [
       "[[0, 0, 0, 1, 0, 0, 0, 0, 0, 0, 0, 0],\n",
       " [0, 0, 0, 0, 1, 0, 0, 0, 0, 0, 0, 0],\n",
       " [0, 0, 0, 0, 0, 1, 0, 0, 0, 0, 0, 0],\n",
       " [0, 0, 0, 0, 0, 0, 1, 0, 0, 0, 0, 0],\n",
       " [0, 0, 0, 0, 0, 0, 0, 1, 0, 0, 0, 0],\n",
       " [0, 0, 0, 0, 0, 0, 0, 0, 1, 0, 0, 0],\n",
       " [0, 0, 0, 0, 0, 0, 0, 0, 0, 1, 0, 0],\n",
       " [0, 0, 0, 0, 0, 0, 0, 0, 0, 0, 1, 0],\n",
       " [0, 0, 0, 0, 0, 0, 0, 0, 0, 0, 0, 1]]"
      ]
     },
     "execution_count": 5,
     "metadata": {},
     "output_type": "execute_result"
    }
   ],
   "source": [
    "delta_kKalpha = tt.form_tensor('_',[9,12])\n",
    "\n",
    "for i in range(9):\n",
    "    for j in range(12):\n",
    "        delta_kKalpha[i][j] = zero\n",
    "\n",
    "for i in range(9):\n",
    "    delta_kKalpha[i][i+3] = one\n",
    "    \n",
    "delta_kKalpha"
   ]
  },
  {
   "cell_type": "code",
   "execution_count": 6,
   "metadata": {},
   "outputs": [],
   "source": [
    "sot_voigt_map = tt.get_voigt_mapping(2)\n",
    "tot_voigt_map = tt.get_voigt_mapping(3)"
   ]
  },
  {
   "cell_type": "code",
   "execution_count": 7,
   "metadata": {},
   "outputs": [],
   "source": [
    "N = sympy.symbols('N')"
   ]
  },
  {
   "cell_type": "code",
   "execution_count": 8,
   "metadata": {},
   "outputs": [],
   "source": [
    "dNdx = [sympy.symbols('dNdx'+str(v+1)) for v in range(3)]"
   ]
  },
  {
   "cell_type": "markdown",
   "metadata": {},
   "source": [
    "Compute voigt matrix form of $\\frac{\\partial u_{K,k}}{\\partial \\hat{u}_{\\alpha}}$"
   ]
  },
  {
   "cell_type": "code",
   "execution_count": 18,
   "metadata": {},
   "outputs": [
    {
     "name": "stdout",
     "output_type": "stream",
     "text": [
      "        tripletList.push_back(T(0,0,dNdx[0]));\n",
      "        tripletList.push_back(T(5,0,dNdx[1]));\n",
      "        tripletList.push_back(T(4,0,dNdx[2]));\n",
      "        tripletList.push_back(T(8,1,dNdx[0]));\n",
      "        tripletList.push_back(T(1,1,dNdx[1]));\n",
      "        tripletList.push_back(T(3,1,dNdx[2]));\n",
      "        tripletList.push_back(T(7,2,dNdx[0]));\n",
      "        tripletList.push_back(T(6,2,dNdx[1]));\n",
      "        tripletList.push_back(T(2,2,dNdx[2]));\n",
      "\n",
      "        dgrad_udU(0,0) = detadx[0];\n",
      "        dgrad_udU(5,0) = detadx[1];\n",
      "        dgrad_udU(4,0) = detadx[2];\n",
      "        dgrad_udU(8,1) = detadx[0];\n",
      "        dgrad_udU(1,1) = detadx[1];\n",
      "        dgrad_udU(3,1) = detadx[2];\n",
      "        dgrad_udU(7,2) = detadx[0];\n",
      "        dgrad_udU(6,2) = detadx[1];\n",
      "        dgrad_udU(2,2) = detadx[2];\n",
      "\n"
     ]
    },
    {
     "data": {
      "text/plain": [
       "[[dNdx1, 0, 0, 0, 0, 0, 0, 0, 0, 0, 0, 0],\n",
       " [0, dNdx2, 0, 0, 0, 0, 0, 0, 0, 0, 0, 0],\n",
       " [0, 0, dNdx3, 0, 0, 0, 0, 0, 0, 0, 0, 0],\n",
       " [0, dNdx3, 0, 0, 0, 0, 0, 0, 0, 0, 0, 0],\n",
       " [dNdx3, 0, 0, 0, 0, 0, 0, 0, 0, 0, 0, 0],\n",
       " [dNdx2, 0, 0, 0, 0, 0, 0, 0, 0, 0, 0, 0],\n",
       " [0, 0, dNdx2, 0, 0, 0, 0, 0, 0, 0, 0, 0],\n",
       " [0, 0, dNdx1, 0, 0, 0, 0, 0, 0, 0, 0, 0],\n",
       " [0, dNdx1, 0, 0, 0, 0, 0, 0, 0, 0, 0, 0]]"
      ]
     },
     "execution_count": 18,
     "metadata": {},
     "output_type": "execute_result"
    }
   ],
   "source": [
    "dgrad_udU = tt.form_tensor('_',[9,12])\n",
    "\n",
    "string = ''\n",
    "for K in range(3):\n",
    "    for k in range(3):\n",
    "        Khat = sot_voigt_map.index([K,k])\n",
    "        \n",
    "        for alpha in range(12):\n",
    "            \n",
    "            dgrad_udU[Khat][alpha] = delta_Kalpha[K][alpha]*dNdx[k]\n",
    "            \n",
    "            if(dgrad_udU[Khat][alpha] != zero):\n",
    "                string += \" \"*8 + \"tripletList.push_back(T({0},{1},dNdx[{2}]));\\n\".format(Khat,alpha,k)\n",
    "print(string)\n",
    "string = ''\n",
    "for K in range(3):\n",
    "    for k in range(3):\n",
    "        Khat = sot_voigt_map.index([K,k])\n",
    "        \n",
    "        for alpha in range(12):\n",
    "            \n",
    "            dgrad_udU[Khat][alpha] = delta_Kalpha[K][alpha]*dNdx[k]\n",
    "            \n",
    "            if(dgrad_udU[Khat][alpha] != zero):\n",
    "                string += \" \"*8 + \"dgrad_udU({0},{1}) = detadx[{2}];\\n\".format(Khat,alpha,k)\n",
    "print(string)\n",
    "dgrad_udU"
   ]
  },
  {
   "cell_type": "markdown",
   "metadata": {},
   "source": [
    "Compute voigt matrix form of $\\frac{\\partial \\phi_{kK} \\phi}{\\partial \\hat{u}_{\\alpha}}$"
   ]
  },
  {
   "cell_type": "code",
   "execution_count": 17,
   "metadata": {},
   "outputs": [
    {
     "name": "stdout",
     "output_type": "stream",
     "text": [
      "        tripletList.push_back(T(0,3,N));\n",
      "        tripletList.push_back(T(5,8,N));\n",
      "        tripletList.push_back(T(4,7,N));\n",
      "        tripletList.push_back(T(8,11,N));\n",
      "        tripletList.push_back(T(1,4,N));\n",
      "        tripletList.push_back(T(3,6,N));\n",
      "        tripletList.push_back(T(7,10,N));\n",
      "        tripletList.push_back(T(6,9,N));\n",
      "        tripletList.push_back(T(2,5,N));\n",
      "\n",
      "        dphidU( 0, 3) = eta;\n",
      "        dphidU( 5, 8) = eta;\n",
      "        dphidU( 4, 7) = eta;\n",
      "        dphidU( 8,11) = eta;\n",
      "        dphidU( 1, 4) = eta;\n",
      "        dphidU( 3, 6) = eta;\n",
      "        dphidU( 7,10) = eta;\n",
      "        dphidU( 6, 9) = eta;\n",
      "        dphidU( 2, 5) = eta;\n",
      "\n"
     ]
    },
    {
     "data": {
      "text/plain": [
       "[[0, 0, 0, N, 0, 0, 0, 0, 0, 0, 0, 0],\n",
       " [0, 0, 0, 0, N, 0, 0, 0, 0, 0, 0, 0],\n",
       " [0, 0, 0, 0, 0, N, 0, 0, 0, 0, 0, 0],\n",
       " [0, 0, 0, 0, 0, 0, N, 0, 0, 0, 0, 0],\n",
       " [0, 0, 0, 0, 0, 0, 0, N, 0, 0, 0, 0],\n",
       " [0, 0, 0, 0, 0, 0, 0, 0, N, 0, 0, 0],\n",
       " [0, 0, 0, 0, 0, 0, 0, 0, 0, N, 0, 0],\n",
       " [0, 0, 0, 0, 0, 0, 0, 0, 0, 0, N, 0],\n",
       " [0, 0, 0, 0, 0, 0, 0, 0, 0, 0, 0, N]]"
      ]
     },
     "execution_count": 17,
     "metadata": {},
     "output_type": "execute_result"
    }
   ],
   "source": [
    "dphidU = tt.form_tensor('_',[9,12])\n",
    "\n",
    "string = ''\n",
    "for K in range(3):\n",
    "    for k in range(3):\n",
    "        Khat = sot_voigt_map.index([K,k])\n",
    "        \n",
    "        for alpha in range(12):\n",
    "            \n",
    "            dphidU[Khat][alpha] = delta_kKalpha[Khat][alpha]*N\n",
    "            \n",
    "            if(dphidU[Khat][alpha] != zero):\n",
    "                string += \" \"*8 + \"tripletList.push_back(T({0},{1},N));\\n\".format(Khat,alpha)\n",
    "print(string)\n",
    "string = ''\n",
    "for K in range(3):\n",
    "    for k in range(3):\n",
    "        Khat = sot_voigt_map.index([K,k])\n",
    "        \n",
    "        for alpha in range(12):\n",
    "            \n",
    "            dphidU[Khat][alpha] = delta_kKalpha[Khat][alpha]*N\n",
    "            \n",
    "            if(dphidU[Khat][alpha] != zero):\n",
    "                string += \" \"*8 + \"dphidU({0:2},{1:2}) = eta;\\n\".format(Khat,alpha)\n",
    "print(string)\n",
    "dphidU"
   ]
  },
  {
   "cell_type": "markdown",
   "metadata": {},
   "source": [
    "Compute voigt matrix form of $\\frac{\\partial \\phi_{kK} \\phi_{,l}}{\\partial \\hat{u}_{\\alpha}}$"
   ]
  },
  {
   "cell_type": "code",
   "execution_count": 16,
   "metadata": {},
   "outputs": [
    {
     "name": "stdout",
     "output_type": "stream",
     "text": [
      "27\n",
      "        tripletList.push_back(T(0,3,dNdx[0]));\n",
      "        tripletList.push_back(T(5,3,dNdx[1]));\n",
      "        tripletList.push_back(T(4,3,dNdx[2]));\n",
      "        tripletList.push_back(T(9,11,dNdx[0]));\n",
      "        tripletList.push_back(T(14,11,dNdx[1]));\n",
      "        tripletList.push_back(T(13,11,dNdx[2]));\n",
      "        tripletList.push_back(T(18,10,dNdx[0]));\n",
      "        tripletList.push_back(T(23,10,dNdx[1]));\n",
      "        tripletList.push_back(T(22,10,dNdx[2]));\n",
      "        tripletList.push_back(T(8,8,dNdx[0]));\n",
      "        tripletList.push_back(T(1,8,dNdx[1]));\n",
      "        tripletList.push_back(T(3,8,dNdx[2]));\n",
      "        tripletList.push_back(T(17,4,dNdx[0]));\n",
      "        tripletList.push_back(T(10,4,dNdx[1]));\n",
      "        tripletList.push_back(T(12,4,dNdx[2]));\n",
      "        tripletList.push_back(T(26,9,dNdx[0]));\n",
      "        tripletList.push_back(T(19,9,dNdx[1]));\n",
      "        tripletList.push_back(T(21,9,dNdx[2]));\n",
      "        tripletList.push_back(T(7,7,dNdx[0]));\n",
      "        tripletList.push_back(T(6,7,dNdx[1]));\n",
      "        tripletList.push_back(T(2,7,dNdx[2]));\n",
      "        tripletList.push_back(T(16,6,dNdx[0]));\n",
      "        tripletList.push_back(T(15,6,dNdx[1]));\n",
      "        tripletList.push_back(T(11,6,dNdx[2]));\n",
      "        tripletList.push_back(T(25,5,dNdx[0]));\n",
      "        tripletList.push_back(T(24,5,dNdx[1]));\n",
      "        tripletList.push_back(T(20,5,dNdx[2]));\n",
      "\n",
      "27\n",
      "        dgrad_phidU( 0, 3) = detadx[0];\n",
      "        dgrad_phidU( 5, 3) = detadx[1];\n",
      "        dgrad_phidU( 4, 3) = detadx[2];\n",
      "        dgrad_phidU( 9,11) = detadx[0];\n",
      "        dgrad_phidU(14,11) = detadx[1];\n",
      "        dgrad_phidU(13,11) = detadx[2];\n",
      "        dgrad_phidU(18,10) = detadx[0];\n",
      "        dgrad_phidU(23,10) = detadx[1];\n",
      "        dgrad_phidU(22,10) = detadx[2];\n",
      "        dgrad_phidU( 8, 8) = detadx[0];\n",
      "        dgrad_phidU( 1, 8) = detadx[1];\n",
      "        dgrad_phidU( 3, 8) = detadx[2];\n",
      "        dgrad_phidU(17, 4) = detadx[0];\n",
      "        dgrad_phidU(10, 4) = detadx[1];\n",
      "        dgrad_phidU(12, 4) = detadx[2];\n",
      "        dgrad_phidU(26, 9) = detadx[0];\n",
      "        dgrad_phidU(19, 9) = detadx[1];\n",
      "        dgrad_phidU(21, 9) = detadx[2];\n",
      "        dgrad_phidU( 7, 7) = detadx[0];\n",
      "        dgrad_phidU( 6, 7) = detadx[1];\n",
      "        dgrad_phidU( 2, 7) = detadx[2];\n",
      "        dgrad_phidU(16, 6) = detadx[0];\n",
      "        dgrad_phidU(15, 6) = detadx[1];\n",
      "        dgrad_phidU(11, 6) = detadx[2];\n",
      "        dgrad_phidU(25, 5) = detadx[0];\n",
      "        dgrad_phidU(24, 5) = detadx[1];\n",
      "        dgrad_phidU(20, 5) = detadx[2];\n",
      "\n"
     ]
    },
    {
     "data": {
      "text/plain": [
       "[[0, 0, 0, dNdx1, 0, 0, 0, 0, 0, 0, 0, 0],\n",
       " [0, 0, 0, 0, 0, 0, 0, 0, dNdx2, 0, 0, 0],\n",
       " [0, 0, 0, 0, 0, 0, 0, dNdx3, 0, 0, 0, 0],\n",
       " [0, 0, 0, 0, 0, 0, 0, 0, dNdx3, 0, 0, 0],\n",
       " [0, 0, 0, dNdx3, 0, 0, 0, 0, 0, 0, 0, 0],\n",
       " [0, 0, 0, dNdx2, 0, 0, 0, 0, 0, 0, 0, 0],\n",
       " [0, 0, 0, 0, 0, 0, 0, dNdx2, 0, 0, 0, 0],\n",
       " [0, 0, 0, 0, 0, 0, 0, dNdx1, 0, 0, 0, 0],\n",
       " [0, 0, 0, 0, 0, 0, 0, 0, dNdx1, 0, 0, 0],\n",
       " [0, 0, 0, 0, 0, 0, 0, 0, 0, 0, 0, dNdx1],\n",
       " [0, 0, 0, 0, dNdx2, 0, 0, 0, 0, 0, 0, 0],\n",
       " [0, 0, 0, 0, 0, 0, dNdx3, 0, 0, 0, 0, 0],\n",
       " [0, 0, 0, 0, dNdx3, 0, 0, 0, 0, 0, 0, 0],\n",
       " [0, 0, 0, 0, 0, 0, 0, 0, 0, 0, 0, dNdx3],\n",
       " [0, 0, 0, 0, 0, 0, 0, 0, 0, 0, 0, dNdx2],\n",
       " [0, 0, 0, 0, 0, 0, dNdx2, 0, 0, 0, 0, 0],\n",
       " [0, 0, 0, 0, 0, 0, dNdx1, 0, 0, 0, 0, 0],\n",
       " [0, 0, 0, 0, dNdx1, 0, 0, 0, 0, 0, 0, 0],\n",
       " [0, 0, 0, 0, 0, 0, 0, 0, 0, 0, dNdx1, 0],\n",
       " [0, 0, 0, 0, 0, 0, 0, 0, 0, dNdx2, 0, 0],\n",
       " [0, 0, 0, 0, 0, dNdx3, 0, 0, 0, 0, 0, 0],\n",
       " [0, 0, 0, 0, 0, 0, 0, 0, 0, dNdx3, 0, 0],\n",
       " [0, 0, 0, 0, 0, 0, 0, 0, 0, 0, dNdx3, 0],\n",
       " [0, 0, 0, 0, 0, 0, 0, 0, 0, 0, dNdx2, 0],\n",
       " [0, 0, 0, 0, 0, dNdx2, 0, 0, 0, 0, 0, 0],\n",
       " [0, 0, 0, 0, 0, dNdx1, 0, 0, 0, 0, 0, 0],\n",
       " [0, 0, 0, 0, 0, 0, 0, 0, 0, dNdx1, 0, 0]]"
      ]
     },
     "execution_count": 16,
     "metadata": {},
     "output_type": "execute_result"
    }
   ],
   "source": [
    "dgrad_phidU = tt.form_tensor('_',[27,12])\n",
    "\n",
    "string = ''\n",
    "n=0\n",
    "for K in range(3):\n",
    "    for k in range(3):\n",
    "        Khat = sot_voigt_map.index([k,K])\n",
    "        for l in range(3):\n",
    "            Khatl = tot_voigt_map.index([k,K,l])\n",
    "            for alpha in range(12):\n",
    "            \n",
    "                dgrad_phidU[Khatl][alpha] = delta_kKalpha[Khat][alpha]*dNdx[l]\n",
    "            \n",
    "                if(dgrad_phidU[Khatl][alpha] != zero):\n",
    "                    string += \" \"*8 + \"tripletList.push_back(T({0},{1},dNdx[{2}]));\\n\".format(Khatl,alpha,l)\n",
    "                    n += 1\n",
    "print(n)\n",
    "print(string)\n",
    "\n",
    "string = ''\n",
    "n=0\n",
    "for K in range(3):\n",
    "    for k in range(3):\n",
    "        Khat = sot_voigt_map.index([k,K])\n",
    "        for l in range(3):\n",
    "            Khatl = tot_voigt_map.index([k,K,l])\n",
    "            for alpha in range(12):\n",
    "            \n",
    "                dgrad_phidU[Khatl][alpha] = delta_kKalpha[Khat][alpha]*dNdx[l]\n",
    "            \n",
    "                if(dgrad_phidU[Khatl][alpha] != zero):\n",
    "                    string += \" \"*8 + \"dgrad_phidU({0:2},{1:2}) = detadx[{2}];\\n\".format(Khatl,alpha,l)\n",
    "                    n += 1\n",
    "print(n)\n",
    "print(string)\n",
    "dgrad_phidU"
   ]
  },
  {
   "cell_type": "code",
   "execution_count": null,
   "metadata": {
    "collapsed": true
   },
   "outputs": [],
   "source": []
  }
 ],
 "metadata": {
  "kernelspec": {
   "display_name": "Python 2",
   "language": "python",
   "name": "python2"
  },
  "language_info": {
   "codemirror_mode": {
    "name": "ipython",
    "version": 2
   },
   "file_extension": ".py",
   "mimetype": "text/x-python",
   "name": "python",
   "nbconvert_exporter": "python",
   "pygments_lexer": "ipython2",
   "version": "2.7.14"
  }
 },
 "nbformat": 4,
 "nbformat_minor": 2
}
